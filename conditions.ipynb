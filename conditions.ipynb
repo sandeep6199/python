{
 "cells": [
  {
   "cell_type": "code",
   "execution_count": 10,
   "metadata": {},
   "outputs": [
    {
     "name": "stdout",
     "output_type": "stream",
     "text": [
      "you are eligible to vote\n"
     ]
    }
   ],
   "source": [
    "a=int(input('enter the age' ))\n",
    "if  a>=18:\n",
    "    print(\"you are eligible to vote\")\n",
    "else :\n",
    "    print(\"you are not eligible to vote\")\n",
    "\n",
    "\n"
   ]
  },
  {
   "cell_type": "code",
   "execution_count": 22,
   "metadata": {},
   "outputs": [
    {
     "name": "stdout",
     "output_type": "stream",
     "text": [
      "A\n",
      "B\n"
     ]
    }
   ],
   "source": [
    "marks = int(input(\"enter your marks :\"))\n",
    "if marks >= 90:\n",
    "    print('A+')\n",
    "if marks >= 75:\n",
    "    print('A')\n",
    "if marks >= 60:\n",
    "    print('B')\n",
    "if marks < 60:\n",
    "    print('fail')"
   ]
  },
  {
   "cell_type": "code",
   "execution_count": 21,
   "metadata": {},
   "outputs": [
    {
     "name": "stdout",
     "output_type": "stream",
     "text": [
      "fail\n"
     ]
    }
   ],
   "source": [
    "marks = int(input(\"enter your marks :\"))\n",
    "if marks >= 90:\n",
    "    print('A+')\n",
    "elif marks >= 75:\n",
    "    print('A')\n",
    "elif marks >= 60:\n",
    "    print('B')\n",
    "elif marks < 60:\n",
    "    print('fail')\n",
    "else:\n",
    "    print('invalid marks')"
   ]
  },
  {
   "cell_type": "code",
   "execution_count": 23,
   "metadata": {},
   "outputs": [
    {
     "name": "stdout",
     "output_type": "stream",
     "text": [
      "you number is positive\n"
     ]
    }
   ],
   "source": [
    "num=int(input('enter the number' ))\n",
    "if  num>=0:\n",
    "    print(\"you number is positive\")\n",
    "else :\n",
    "    print(\"you are number is not positive\")"
   ]
  },
  {
   "cell_type": "code",
   "execution_count": 24,
   "metadata": {},
   "outputs": [
    {
     "name": "stdout",
     "output_type": "stream",
     "text": [
      "you number is even\n"
     ]
    }
   ],
   "source": [
    "num=int(input('enter the number' ))\n",
    "if  num%2==0:\n",
    "    print(\"you number is even\")\n",
    "else :\n",
    "    print(\"you are number is not not even\")"
   ]
  },
  {
   "cell_type": "code",
   "execution_count": 25,
   "metadata": {},
   "outputs": [
    {
     "name": "stdout",
     "output_type": "stream",
     "text": [
      "you are char is not a vowel\n"
     ]
    }
   ],
   "source": [
    "char=(input('enter your wordr' ))\n",
    "if char=='a' or char=='e' or char=='i' or  char=='o' or char=='u'or char=='A' or char=='E' or char=='I' or  char=='O' or char=='U':\n",
    "    print(\"you char is vowel\")\n",
    "else :\n",
    "    print(\"you are char is not a vowel\")"
   ]
  },
  {
   "cell_type": "code",
   "execution_count": 26,
   "metadata": {},
   "outputs": [
    {
     "name": "stdout",
     "output_type": "stream",
     "text": [
      "the triangle is equilateral\n"
     ]
    }
   ],
   "source": [
    "s1=float(input(\"enter the first side of the triangle\"))\n",
    "s2=float(input(\"enter the first side of the triangle\"))\n",
    "s3=float(input(\"enter the first side of the triangle\"))\n",
    "if s1==s2 and s2==s3 and s1==s3:\n",
    "    print(\"the triangle is equilateral\")\n",
    "elif s1==s2!=s3 or s1!=s2==s3 or s1==s3!=s2:\n",
    "    print(\"the triangle is isosceles\")\n",
    "else:\n",
    "    print(\"the triangle is scalene\")\n"
   ]
  },
  {
   "cell_type": "code",
   "execution_count": 30,
   "metadata": {},
   "outputs": [
    {
     "name": "stdout",
     "output_type": "stream",
     "text": [
      "invalid email\n"
     ]
    }
   ],
   "source": [
    "username = input(\"enter your name\")\n",
    "email = input(\"enter your email\")\n",
    "password = input(\"enter your password\")\n",
    "cpass = input(\"enter your confirm password\")\n",
    "if len(username)>5 and len(username)<15:\n",
    "    if '@' in email and len(email)>10:\n",
    "        if len(password)>8 and len(password)<15:\n",
    "            if password == cpass:\n",
    "                print('Rigistration successful')\n",
    "            else:\n",
    "                print('password does not match')\n",
    "        else:\n",
    "            print('password must be between 8 and 15 characters')\n",
    "    else:\n",
    "        print('invalid email')\n",
    "else:\n",
    "    print(\"invalid user\")"
   ]
  },
  {
   "cell_type": "code",
   "execution_count": 32,
   "metadata": {},
   "outputs": [
    {
     "data": {
      "text/plain": [
       "5"
      ]
     },
     "execution_count": 32,
     "metadata": {},
     "output_type": "execute_result"
    }
   ],
   "source": [
    "a='apple'\n",
    "len(a)"
   ]
  },
  {
   "cell_type": "code",
   "execution_count": null,
   "metadata": {},
   "outputs": [],
   "source": []
  }
 ],
 "metadata": {
  "kernelspec": {
   "display_name": "base",
   "language": "python",
   "name": "python3"
  },
  "language_info": {
   "codemirror_mode": {
    "name": "ipython",
    "version": 3
   },
   "file_extension": ".py",
   "mimetype": "text/x-python",
   "name": "python",
   "nbconvert_exporter": "python",
   "pygments_lexer": "ipython3",
   "version": "3.12.8"
  }
 },
 "nbformat": 4,
 "nbformat_minor": 2
}
