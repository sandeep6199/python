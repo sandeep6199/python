{
 "cells": [
  {
   "cell_type": "code",
   "execution_count": null,
   "metadata": {},
   "outputs": [],
   "source": []
  },
  {
   "cell_type": "code",
   "execution_count": 5,
   "metadata": {},
   "outputs": [
    {
     "name": "stdout",
     "output_type": "stream",
     "text": [
      "10\n"
     ]
    }
   ],
   "source": [
    "x=5\n",
    "x+=5\n",
    "print(x)"
   ]
  },
  {
   "cell_type": "code",
   "execution_count": 6,
   "metadata": {},
   "outputs": [
    {
     "name": "stdout",
     "output_type": "stream",
     "text": [
      "10\n",
      "0\n",
      "1.0\n",
      "25\n",
      "1\n",
      "3125\n",
      "0\n"
     ]
    }
   ],
   "source": [
    "a=5\n",
    "b=5\n",
    "c=a+b\n",
    "print(a+b)\n",
    "print(a-b)\n",
    "print(a/b)\n",
    "print(a*b)\n",
    "print(a//b)\n",
    "print(a**b)\n",
    "print(a%b)\n"
   ]
  },
  {
   "cell_type": "code",
   "execution_count": 7,
   "metadata": {},
   "outputs": [
    {
     "data": {
      "text/plain": [
       "False"
      ]
     },
     "execution_count": 7,
     "metadata": {},
     "output_type": "execute_result"
    }
   ],
   "source": [
    "a>b and a>c"
   ]
  },
  {
   "cell_type": "code",
   "execution_count": 8,
   "metadata": {},
   "outputs": [
    {
     "data": {
      "text/plain": [
       "True"
      ]
     },
     "execution_count": 8,
     "metadata": {},
     "output_type": "execute_result"
    }
   ],
   "source": [
    "not (a>b and a>c)"
   ]
  },
  {
   "cell_type": "code",
   "execution_count": 9,
   "metadata": {},
   "outputs": [
    {
     "data": {
      "text/plain": [
       "False"
      ]
     },
     "execution_count": 9,
     "metadata": {},
     "output_type": "execute_result"
    }
   ],
   "source": [
    "a>b or a>c"
   ]
  },
  {
   "cell_type": "code",
   "execution_count": 11,
   "metadata": {},
   "outputs": [
    {
     "data": {
      "text/plain": [
       "True"
      ]
     },
     "execution_count": 11,
     "metadata": {},
     "output_type": "execute_result"
    }
   ],
   "source": [
    "a is b"
   ]
  },
  {
   "cell_type": "code",
   "execution_count": 12,
   "metadata": {},
   "outputs": [
    {
     "data": {
      "text/plain": [
       "True"
      ]
     },
     "execution_count": 12,
     "metadata": {},
     "output_type": "execute_result"
    }
   ],
   "source": [
    "a = [1,2,4,6,2,4,3,]\n",
    "4 in a"
   ]
  },
  {
   "cell_type": "code",
   "execution_count": 14,
   "metadata": {},
   "outputs": [
    {
     "name": "stdout",
     "output_type": "stream",
     "text": [
      "इतने बहुत-से वसंत का\n",
      "क्या होगा\n",
      "\n",
      "मेरे पास एक फूल है\n",
      "इन रोज़-रोज़ के\n",
      "तमाम सुखों का क्या होगा\n",
      "मेरे पास एक भूल है\n",
      "सदा की अछूती और टटकी\n",
      "और मनहरण\n",
      "\n",
      "पैताने बैठा है जिसके\n",
      "जीवन\n",
      "सिराहने बैठा है जिसके\n",
      "मरण!\n",
      "\n"
     ]
    }
   ],
   "source": [
    "poem='''इतने बहुत-से वसंत का\n",
    "क्या होगा\n",
    "\n",
    "मेरे पास एक फूल है\n",
    "इन रोज़-रोज़ के\n",
    "तमाम सुखों का क्या होगा\n",
    "मेरे पास एक भूल है\n",
    "सदा की अछूती और टटकी\n",
    "और मनहरण\n",
    "\n",
    "पैताने बैठा है जिसके\n",
    "जीवन\n",
    "सिराहने बैठा है जिसके\n",
    "मरण!\n",
    "'''\n",
    "print(poem)"
   ]
  }
 ],
 "metadata": {
  "kernelspec": {
   "display_name": "base",
   "language": "python",
   "name": "python3"
  },
  "language_info": {
   "codemirror_mode": {
    "name": "ipython",
    "version": 3
   },
   "file_extension": ".py",
   "mimetype": "text/x-python",
   "name": "python",
   "nbconvert_exporter": "python",
   "pygments_lexer": "ipython3",
   "version": "3.12.8"
  }
 },
 "nbformat": 4,
 "nbformat_minor": 2
}
